{
 "cells": [
  {
   "cell_type": "code",
   "execution_count": 1,
   "metadata": {},
   "outputs": [],
   "source": [
    "import random\n",
    "import numpy as np\n",
    "\n",
    "my_seed = 1337\n",
    "random.seed(my_seed)\n",
    "np.random.seed(my_seed)"
   ]
  },
  {
   "cell_type": "code",
   "execution_count": 2,
   "metadata": {},
   "outputs": [],
   "source": [
    "import pandas as pd\n",
    "import numpy as np\n",
    "from typing import *\n",
    "from IPython.display import display, HTML, Markdown\n",
    "\n",
    "import warnings\n",
    "warnings.filterwarnings('ignore')\n",
    "\n",
    "\n",
    "def display_best_and_worse_recommendations(recommendations: pd.DataFrame):\n",
    "    recommendations.sort_values('Estimated Prediction', ascending=False, inplace=True)\n",
    "\n",
    "    top_recommendations = recommendations.iloc[:10]\n",
    "    top_recommendations.columns = ['Prediction (sorted by best)', 'Movie Title']\n",
    "\n",
    "    worse_recommendations = recommendations.iloc[-10:]\n",
    "    worse_recommendations.columns = ['Prediction (sorted by worse)', 'Movie Title']\n",
    "\n",
    "    display(HTML(\"<h1>Recommendations your user will love</h1>\"))\n",
    "    display(top_recommendations)\n",
    "\n",
    "    display(HTML(\"<h1>Recommendations your user will hate</h1>\"))\n",
    "    display(worse_recommendations)\n",
    "    \n",
    "\n",
    "def load_movies_dataset() -> pd.DataFrame:\n",
    "    movie_data_columns = [\n",
    "    'movie_id', 'title', 'release_date', 'video_release_date', 'url',\n",
    "    'unknown', 'Action', 'Adventure', 'Animation', \"Children's\",\n",
    "    'Comedy', 'Crime', 'Documentary', 'Drama', 'Fantasy', 'Film-Noir',\n",
    "    'Horror', 'Musical', 'Mystery', 'Romance', 'Sci-Fi', 'Thriller',\n",
    "    'War', 'Western'\n",
    "    ]\n",
    "\n",
    "    movie_data = pd.read_csv(\n",
    "        'datasets/ml-100k/u.item', \n",
    "        sep = '|', \n",
    "        encoding = \"ISO-8859-1\", \n",
    "        header = None, \n",
    "        names = movie_data_columns,\n",
    "        index_col = 'movie_id'\n",
    "    )\n",
    "    movie_data['release_date'] = pd.to_datetime(movie_data['release_date'])\n",
    "    return movie_data\n",
    "\n",
    "def load_ratings() -> pd.DataFrame:\n",
    "    ratings_data = pd.read_csv(\n",
    "        'datasets/ml-100k/u.data',\n",
    "        sep = '\\t',\n",
    "        encoding = \"ISO-8859-1\",\n",
    "        header = None,\n",
    "        names=['user_id', 'movie_id', 'rating', 'timestamp']\n",
    "    )\n",
    "    return ratings_data[['user_id', 'movie_id', 'rating']]\n",
    "\n",
    "def load_movielens() -> pd.DataFrame:\n",
    "    ratings_data = load_ratings()\n",
    "    movies_data = load_movies_dataset()\n",
    "    ratings_data['user_id'] = ratings_data['user_id'].map(lambda k: \"User %d\"%k)\n",
    "                                                         \n",
    "    ratings_and_movies = ratings_data \\\n",
    "        .set_index('movie_id') \\\n",
    "        .join(movies_data['title']) \\\n",
    "        .reset_index()\n",
    "    \n",
    "    ratings_and_movies['movie_title'] = ratings_and_movies['title']\n",
    "    return ratings_and_movies[['user_id', 'movie_title', 'rating']].sample(frac=1)"
   ]
  },
  {
   "cell_type": "markdown",
   "metadata": {},
   "source": [
    "# Table of contents\n",
    "# 1) Training a SVD model\n",
    "\n",
    "    Downloading and exploring the MovieLens dataset\n",
    "    Training a SVD using Surprise in 4 simple steps\n",
    "\n",
    "# 2) Generating recommendations\n",
    "\n",
    "    Recommendations via Matrix Reconstruction: Using the predict() API inside of Surprise\n",
    "    Recommendations via Product based CF: Finding similarity between vectors\n",
    "\n"
   ]
  },
  {
   "cell_type": "code",
   "execution_count": 3,
   "metadata": {},
   "outputs": [
    {
     "data": {
      "text/html": [
       "<div>\n",
       "<style scoped>\n",
       "    .dataframe tbody tr th:only-of-type {\n",
       "        vertical-align: middle;\n",
       "    }\n",
       "\n",
       "    .dataframe tbody tr th {\n",
       "        vertical-align: top;\n",
       "    }\n",
       "\n",
       "    .dataframe thead th {\n",
       "        text-align: right;\n",
       "    }\n",
       "</style>\n",
       "<table border=\"1\" class=\"dataframe\">\n",
       "  <thead>\n",
       "    <tr style=\"text-align: right;\">\n",
       "      <th></th>\n",
       "      <th>user_id</th>\n",
       "      <th>movie_title</th>\n",
       "      <th>rating</th>\n",
       "    </tr>\n",
       "  </thead>\n",
       "  <tbody>\n",
       "    <tr>\n",
       "      <th>36649</th>\n",
       "      <td>User 742</td>\n",
       "      <td>Jerry Maguire (1996)</td>\n",
       "      <td>4</td>\n",
       "    </tr>\n",
       "    <tr>\n",
       "      <th>2478</th>\n",
       "      <td>User 908</td>\n",
       "      <td>Usual Suspects, The (1995)</td>\n",
       "      <td>3</td>\n",
       "    </tr>\n",
       "    <tr>\n",
       "      <th>82838</th>\n",
       "      <td>User 758</td>\n",
       "      <td>Real Genius (1985)</td>\n",
       "      <td>4</td>\n",
       "    </tr>\n",
       "    <tr>\n",
       "      <th>69729</th>\n",
       "      <td>User 393</td>\n",
       "      <td>Things to Do in Denver when You're Dead (1995)</td>\n",
       "      <td>3</td>\n",
       "    </tr>\n",
       "    <tr>\n",
       "      <th>36560</th>\n",
       "      <td>User 66</td>\n",
       "      <td>Jerry Maguire (1996)</td>\n",
       "      <td>4</td>\n",
       "    </tr>\n",
       "  </tbody>\n",
       "</table>\n",
       "</div>"
      ],
      "text/plain": [
       "        user_id                                     movie_title  rating\n",
       "36649  User 742                            Jerry Maguire (1996)       4\n",
       "2478   User 908                      Usual Suspects, The (1995)       3\n",
       "82838  User 758                              Real Genius (1985)       4\n",
       "69729  User 393  Things to Do in Denver when You're Dead (1995)       3\n",
       "36560   User 66                            Jerry Maguire (1996)       4"
      ]
     },
     "execution_count": 3,
     "metadata": {},
     "output_type": "execute_result"
    }
   ],
   "source": [
    "movielens_df = load_movielens()\n",
    "movielens_df.head(5)"
   ]
  },
  {
   "cell_type": "code",
   "execution_count": 4,
   "metadata": {},
   "outputs": [],
   "source": [
    "# Remove movies with few ratings\n",
    "movie_ratings = movielens_df.groupby('movie_title').size()\n",
    "valid_movies = movie_ratings[movie_ratings > 50]\n",
    "movie_ratings = movielens_df.set_index('movie_title', drop=False).join(valid_movies.to_frame(), how='inner').reset_index(drop=True)\n",
    "\n",
    "del movie_ratings[0]\n",
    "\n",
    "movie_ratings = movie_ratings.sample(frac=1)\n",
    "movie_ratings.head(5)\n",
    "\n",
    "movielens_df = movie_ratings"
   ]
  },
  {
   "cell_type": "markdown",
   "metadata": {},
   "source": [
    "# Training a SVD using Surprise in 4 simple steps"
   ]
  },
  {
   "cell_type": "code",
   "execution_count": 5,
   "metadata": {},
   "outputs": [],
   "source": [
    "from surprise import SVD\n",
    "from surprise import Dataset, Reader\n",
    "from surprise.model_selection import cross_validate, train_test_split\n",
    "\n",
    "# Step 1: create a Reader.\n",
    "# A reader tells our SVD what the lower and upper bound of our ratings is.\n",
    "# MovieLens ratings are from 1 to 5\n",
    "reader = Reader(rating_scale=(1, 5))"
   ]
  },
  {
   "cell_type": "code",
   "execution_count": 6,
   "metadata": {},
   "outputs": [],
   "source": [
    "# Step 2: create a new Dataset instance with a DataFrame and the reader\n",
    "# The DataFrame needs to have 3 columns in this specific order: [user_id, product_id, rating]\n",
    "data = Dataset.load_from_df(movielens_df, reader)"
   ]
  },
  {
   "cell_type": "code",
   "execution_count": 7,
   "metadata": {},
   "outputs": [],
   "source": [
    "# Step 3: keep 25% of your trainset for testing\n",
    "trainset, testset = train_test_split(data, test_size=.25)"
   ]
  },
  {
   "cell_type": "code",
   "execution_count": 8,
   "metadata": {},
   "outputs": [],
   "source": [
    "reader = Reader(rating_scale=(1, 5))\n",
    "data = Dataset.load_from_df(movielens_df, reader)\n",
    "trainset, testset = train_test_split(data, test_size=.01)"
   ]
  },
  {
   "cell_type": "code",
   "execution_count": 9,
   "metadata": {},
   "outputs": [
    {
     "data": {
      "text/plain": [
       "<surprise.prediction_algorithms.matrix_factorization.SVD at 0x7fd55514de80>"
      ]
     },
     "execution_count": 9,
     "metadata": {},
     "output_type": "execute_result"
    }
   ],
   "source": [
    "# Step 4: train a new SVD with 100 latent features (number was chosen arbitrarily)\n",
    "model = SVD(n_factors=256)\n",
    "model.fit(trainset)"
   ]
  },
  {
   "cell_type": "code",
   "execution_count": 10,
   "metadata": {},
   "outputs": [
    {
     "data": {
      "text/plain": [
       "0.9999999999999999"
      ]
     },
     "execution_count": 10,
     "metadata": {},
     "output_type": "execute_result"
    }
   ],
   "source": [
    "# Normalization\n",
    "pd.DataFrame(model.qi).iloc[0].pow(2).sum()\n",
    "model.qi /= np.linalg.norm(model.qi, ord=2, axis=1).reshape(-1, 1)\n",
    "pd.DataFrame(model.qi).iloc[0].pow(2).sum()"
   ]
  },
  {
   "cell_type": "markdown",
   "metadata": {},
   "source": [
    "# Inspecting our Product Matrix\n",
    "\n",
    "Surprise SVD stores the product matrix under the model.qi attribute"
   ]
  },
  {
   "cell_type": "code",
   "execution_count": 11,
   "metadata": {},
   "outputs": [
    {
     "data": {
      "text/plain": [
       "(596, 256)"
      ]
     },
     "execution_count": 11,
     "metadata": {},
     "output_type": "execute_result"
    }
   ],
   "source": [
    "model.qi.shape"
   ]
  },
  {
   "cell_type": "markdown",
   "metadata": {},
   "source": [
    "# Recommendations via Matrix Reconstruction\n",
    "# Use cases:\n",
    " \n",
    "    Predict a score between any combination of user and a product\n",
    "# Recommendations via Matrix Reconstruction: Using the predict() API inside of Surprise\n",
    "\n",
    "    Computes the rating prediction for given user and movie with model.predict(). Pick a random user and movie, and calculate the score between them"
   ]
  },
  {
   "cell_type": "code",
   "execution_count": 12,
   "metadata": {},
   "outputs": [
    {
     "data": {
      "text/html": [
       "<div>\n",
       "<style scoped>\n",
       "    .dataframe tbody tr th:only-of-type {\n",
       "        vertical-align: middle;\n",
       "    }\n",
       "\n",
       "    .dataframe tbody tr th {\n",
       "        vertical-align: top;\n",
       "    }\n",
       "\n",
       "    .dataframe thead th {\n",
       "        text-align: right;\n",
       "    }\n",
       "</style>\n",
       "<table border=\"1\" class=\"dataframe\">\n",
       "  <thead>\n",
       "    <tr style=\"text-align: right;\">\n",
       "      <th></th>\n",
       "      <th>user_id</th>\n",
       "      <th>movie_title</th>\n",
       "      <th>rating</th>\n",
       "    </tr>\n",
       "  </thead>\n",
       "  <tbody>\n",
       "    <tr>\n",
       "      <th>49469</th>\n",
       "      <td>User 437</td>\n",
       "      <td>Monty Python and the Holy Grail (1974)</td>\n",
       "      <td>3</td>\n",
       "    </tr>\n",
       "    <tr>\n",
       "      <th>12181</th>\n",
       "      <td>User 85</td>\n",
       "      <td>Butch Cassidy and the Sundance Kid (1969)</td>\n",
       "      <td>4</td>\n",
       "    </tr>\n",
       "  </tbody>\n",
       "</table>\n",
       "</div>"
      ],
      "text/plain": [
       "        user_id                                movie_title  rating\n",
       "49469  User 437     Monty Python and the Holy Grail (1974)       3\n",
       "12181   User 85  Butch Cassidy and the Sundance Kid (1969)       4"
      ]
     },
     "execution_count": 12,
     "metadata": {},
     "output_type": "execute_result"
    }
   ],
   "source": [
    "# Refresher: ratings data-frame.\n",
    "movielens_df.head(2)"
   ]
  },
  {
   "cell_type": "code",
   "execution_count": 13,
   "metadata": {},
   "outputs": [
    {
     "data": {
      "text/plain": [
       "Prediction(uid='User 196', iid='Toy Story (1995)', r_ui=None, est=4.121260358723221, details={'was_impossible': False})"
      ]
     },
     "execution_count": 13,
     "metadata": {},
     "output_type": "execute_result"
    }
   ],
   "source": [
    "a_user = \"User 196\"\n",
    "a_product = \"Toy Story (1995)\"\n",
    "model.predict(a_user, a_product)"
   ]
  },
  {
   "cell_type": "markdown",
   "metadata": {},
   "source": [
    "# Recommendations via Item Similarity: Finding similarity between vectors\n",
    "\n",
    "2 products are \"similar\" when the cosine distance is close to 0"
   ]
  },
  {
   "cell_type": "code",
   "execution_count": 15,
   "metadata": {},
   "outputs": [],
   "source": [
    "def get_vector_by_movie_title(movie_title: str, trained_model: SVD) -> np.array:\n",
    "    \"\"\"Returns the latent features of a movie in the form of a numpy array\"\"\"\n",
    "    movie_row_idx = trained_model.trainset._raw2inner_id_items[movie_title]\n",
    "    return trained_model.qi[movie_row_idx]\n",
    "\n",
    "\n",
    "def cosine_distance(vector_a: np.array, vector_b: np.array) -> float:\n",
    "    \"\"\"Returns a float indicating the similarity between two vectors\"\"\"\n",
    "    ab=np.sum(np.multiply(vector_a,vector_b))\n",
    "    denom=np.sqrt(np.sum(np.square(vector_a))*np.sum(np.square(vector_b)))\n",
    "    return 0.5+0.5*ab/denom"
   ]
  },
  {
   "cell_type": "code",
   "execution_count": 16,
   "metadata": {},
   "outputs": [
    {
     "name": "stdout",
     "output_type": "stream",
     "text": [
      "The similarity between Star Wars and Return of the Jedi is 82.51%\n",
      "The similarity between Star Wars and Aladdin is 54.14%\n"
     ]
    }
   ],
   "source": [
    "# Fetch the vectors of \"Toy Story\" and \"Wizard of Oz\"\n",
    "movie1_vec = get_vector_by_movie_title('Star Wars (1977)', model)\n",
    "movie2_vec = get_vector_by_movie_title('Return of the Jedi (1983)', model)\n",
    "movie3_vec = get_vector_by_movie_title('Aladdin (1992)',model)\n",
    "# Calculate the distance between the vectors. The smaller the number,\n",
    "# the more similar the two movies are\n",
    "cos_score = cosine_distance(movie1_vec, movie2_vec)\n",
    "print(\"The similarity between Star Wars and Return of the Jedi is %.2f\"%((cos_score)*100)+'%')\n",
    "cos_score = cosine_distance(movie1_vec, movie3_vec)\n",
    "print(\"The similarity between Star Wars and Aladdin is %.2f\"%((cos_score)*100)+'%')"
   ]
  },
  {
   "cell_type": "markdown",
   "metadata": {},
   "source": [
    "# Finding similar movies by ranking"
   ]
  },
  {
   "cell_type": "code",
   "execution_count": 17,
   "metadata": {},
   "outputs": [],
   "source": [
    "def display(similarity_table):\n",
    "    similarity_table = pd.DataFrame(\n",
    "        similarity_table,\n",
    "        columns=['Similarity', 'movie title']\n",
    "    ).sort_values('Similarity', ascending=False)\n",
    "    return similarity_table.iloc[1:6]\n",
    "\n",
    "def get_top_similarities(movie_title: str, model: SVD) -> pd.DataFrame:\n",
    "    \"\"\"Returns the top 5 most similar movies to a specified movie\n",
    "    \n",
    "    This function iterates over every possible movie in MovieLens and calculates\n",
    "    distance between `movie_title` vector and that movie's vector.\n",
    "    \"\"\"\n",
    "    \n",
    "    # Get the first movie vector\n",
    "    movie_vector = get_vector_by_movie_title(movie_title, model)\n",
    "    similarity_table = []\n",
    "    # Iterate over every possible movie and calculate similarity\n",
    "    for other_movie_title in model.trainset._raw2inner_id_items.keys():\n",
    "        other_movie_vector = get_vector_by_movie_title(other_movie_title, model)\n",
    "        # Get the second movie vector, and calculate distance\n",
    "        similarity_score = cosine_distance(other_movie_vector, movie_vector)\n",
    "        similarity_table.append((similarity_score, other_movie_title))\n",
    "    \n",
    "    # sort movies by ascending similarity\n",
    "    return display(sorted(similarity_table))"
   ]
  },
  {
   "cell_type": "code",
   "execution_count": 18,
   "metadata": {},
   "outputs": [
    {
     "data": {
      "text/html": [
       "<div>\n",
       "<style scoped>\n",
       "    .dataframe tbody tr th:only-of-type {\n",
       "        vertical-align: middle;\n",
       "    }\n",
       "\n",
       "    .dataframe tbody tr th {\n",
       "        vertical-align: top;\n",
       "    }\n",
       "\n",
       "    .dataframe thead th {\n",
       "        text-align: right;\n",
       "    }\n",
       "</style>\n",
       "<table border=\"1\" class=\"dataframe\">\n",
       "  <thead>\n",
       "    <tr style=\"text-align: right;\">\n",
       "      <th></th>\n",
       "      <th>Similarity</th>\n",
       "      <th>movie title</th>\n",
       "    </tr>\n",
       "  </thead>\n",
       "  <tbody>\n",
       "    <tr>\n",
       "      <th>594</th>\n",
       "      <td>0.825065</td>\n",
       "      <td>Return of the Jedi (1983)</td>\n",
       "    </tr>\n",
       "    <tr>\n",
       "      <th>593</th>\n",
       "      <td>0.824013</td>\n",
       "      <td>Empire Strikes Back, The (1980)</td>\n",
       "    </tr>\n",
       "    <tr>\n",
       "      <th>592</th>\n",
       "      <td>0.706024</td>\n",
       "      <td>Raiders of the Lost Ark (1981)</td>\n",
       "    </tr>\n",
       "    <tr>\n",
       "      <th>591</th>\n",
       "      <td>0.629825</td>\n",
       "      <td>Pinocchio (1940)</td>\n",
       "    </tr>\n",
       "    <tr>\n",
       "      <th>590</th>\n",
       "      <td>0.608031</td>\n",
       "      <td>Sting, The (1973)</td>\n",
       "    </tr>\n",
       "  </tbody>\n",
       "</table>\n",
       "</div>"
      ],
      "text/plain": [
       "     Similarity                      movie title\n",
       "594    0.825065        Return of the Jedi (1983)\n",
       "593    0.824013  Empire Strikes Back, The (1980)\n",
       "592    0.706024   Raiders of the Lost Ark (1981)\n",
       "591    0.629825                 Pinocchio (1940)\n",
       "590    0.608031                Sting, The (1973)"
      ]
     },
     "execution_count": 18,
     "metadata": {},
     "output_type": "execute_result"
    }
   ],
   "source": [
    "get_top_similarities('Star Wars (1977)', model)"
   ]
  },
  {
   "cell_type": "code",
   "execution_count": null,
   "metadata": {},
   "outputs": [],
   "source": []
  }
 ],
 "metadata": {
  "kernelspec": {
   "display_name": "Python 3",
   "language": "python",
   "name": "python3"
  },
  "language_info": {
   "codemirror_mode": {
    "name": "ipython",
    "version": 3
   },
   "file_extension": ".py",
   "mimetype": "text/x-python",
   "name": "python",
   "nbconvert_exporter": "python",
   "pygments_lexer": "ipython3",
   "version": "3.5.2"
  }
 },
 "nbformat": 4,
 "nbformat_minor": 2
}
